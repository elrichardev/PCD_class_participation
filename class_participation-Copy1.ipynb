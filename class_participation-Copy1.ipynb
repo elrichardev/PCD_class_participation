{
 "cells": [
  {
   "cell_type": "markdown",
   "id": "expensive-farmer",
   "metadata": {},
   "source": [
    "<h1 style = \"text-align:center\">Programación Concurrente y Distribuida </h1>\n",
    "\n",
    "<a href=\"https://github.com/elrichardev\">\n",
    "\n",
    "  <img src=\"ricardo.jpg\" title = \"Ricardo Delgado Fernández 21844773\" alt=\"Ricardo Delgado Fernández\" width=\"100\" height=\"100\" style=\"float:left; vertical-alig:middle\">\n",
    "    \n",
    "    </a>\n",
    "\n",
    "  <img src=\"uem_logo.jpg\" title= \"M21\" alt=\"UE\" width=\"105\" height=\"105\" style=\"float:right;vertical-alig:middle\">\n",
    "    \n",
    "    <br>\n",
    "    <h2 style = \"text-align:center\">Class Participation</h2>\n",
    "    <br><br><br>\n",
    "    <h2 style = \"text-align:left\">INDEX </h2>\n",
    "\n",
    "   "
   ]
  },
  {
   "cell_type": "markdown",
   "id": "english-circulation",
   "metadata": {},
   "source": [
    "#### GLOSARIO DE IMPORTS"
   ]
  },
  {
   "cell_type": "code",
   "execution_count": 4,
   "id": "systematic-bench",
   "metadata": {},
   "outputs": [],
   "source": [
    "import os"
   ]
  },
  {
   "cell_type": "code",
   "execution_count": 5,
   "id": "adjustable-communication",
   "metadata": {},
   "outputs": [],
   "source": [
    "import threading"
   ]
  },
  {
   "cell_type": "code",
   "execution_count": 6,
   "id": "varying-airfare",
   "metadata": {},
   "outputs": [],
   "source": [
    "import requests"
   ]
  },
  {
   "cell_type": "markdown",
   "id": "pending-reflection",
   "metadata": {},
   "source": [
    "#### CONTROL DEL PROCESO"
   ]
  },
  {
   "cell_type": "code",
   "execution_count": 7,
   "id": "excellent-lesbian",
   "metadata": {},
   "outputs": [
    {
     "name": "stdout",
     "output_type": "stream",
     "text": [
      "El proceso que esta manejando este programa es: 19244\n"
     ]
    }
   ],
   "source": [
    "print(\"El proceso que esta manejando este programa es:\", os.getpid())"
   ]
  },
  {
   "cell_type": "code",
   "execution_count": 10,
   "id": "intended-titanium",
   "metadata": {},
   "outputs": [],
   "source": []
  },
  {
   "cell_type": "code",
   "execution_count": 14,
   "id": "adverse-sauce",
   "metadata": {},
   "outputs": [],
   "source": [
    "def cpu():\n",
    "    while True:\n",
    "        pass"
   ]
  },
  {
   "cell_type": "code",
   "execution_count": null,
   "id": "confirmed-assembly",
   "metadata": {},
   "outputs": [],
   "source": []
  },
  {
   "cell_type": "code",
   "execution_count": 16,
   "id": "young-vietnamese",
   "metadata": {},
   "outputs": [],
   "source": []
  },
  {
   "cell_type": "markdown",
   "id": "continued-opening",
   "metadata": {},
   "source": []
  },
  {
   "cell_type": "code",
   "execution_count": 10,
   "id": "unique-dutch",
   "metadata": {},
   "outputs": [
    {
     "name": "stdout",
     "output_type": "stream",
     "text": [
      "Hilos lanzados 7\n"
     ]
    }
   ],
   "source": [
    "print(\"Hilos lanzados\", threading.activeCount())"
   ]
  },
  {
   "cell_type": "code",
   "execution_count": null,
   "id": "cross-cross",
   "metadata": {},
   "outputs": [],
   "source": [
    "#ENUMERAR CORES LOGICOS"
   ]
  },
  {
   "cell_type": "code",
   "execution_count": 13,
   "id": "closing-cyprus",
   "metadata": {},
   "outputs": [
    {
     "name": "stdout",
     "output_type": "stream",
     "text": [
      "Este equipo tiene un total de   12 cores logicos\n"
     ]
    }
   ],
   "source": [
    "print(\"Este equipo tiene un total de  \", os.cpu_count(), \"cores logicos\")"
   ]
  },
  {
   "cell_type": "code",
   "execution_count": 12,
   "id": "surgical-interim",
   "metadata": {},
   "outputs": [
    {
     "name": "stdout",
     "output_type": "stream",
     "text": [
      "Este equipo tiene un total de 6.0 cores físicos\n"
     ]
    }
   ],
   "source": [
    "print(\"Este equipo tiene un total de\", os.cpu_count() / 2, \"cores físicos\")"
   ]
  },
  {
   "cell_type": "code",
   "execution_count": 11,
   "id": "artificial-interpretation",
   "metadata": {},
   "outputs": [],
   "source": [
    "#7- ENUMERAR LOS HILOS LANZADOS"
   ]
  },
  {
   "cell_type": "code",
   "execution_count": 24,
   "id": "chicken-mission",
   "metadata": {},
   "outputs": [
    {
     "name": "stdout",
     "output_type": "stream",
     "text": [
      "<_MainThread(MainThread, started 7332)>\n",
      "<Thread(Tornado selector, started daemon 13632)>\n",
      "<Thread(Thread-4, started daemon 15112)>\n",
      "<Heartbeat(Thread-5, started daemon 5960)>\n",
      "<Thread(Tornado selector, started daemon 12044)>\n",
      "<HistorySavingThread(IPythonHistorySavingThread, started 16772)>\n",
      "<ParentPollerWindows(Thread-3, started daemon 9076)>\n"
     ]
    }
   ],
   "source": [
    "for t in threading.enumerate():\n",
    "    print(t)"
   ]
  },
  {
   "cell_type": "code",
   "execution_count": null,
   "id": "relevant-brisbane",
   "metadata": {},
   "outputs": [],
   "source": [
    "#8- Lance un ataque usando 20 hilos a: https://github.com/sukuzhanay "
   ]
  },
  {
   "cell_type": "code",
   "execution_count": 17,
   "id": "honey-pavilion",
   "metadata": {},
   "outputs": [],
   "source": [
    "def ataque():\n",
    "    print(requests.get('https://eburnout.com/'))\n",
    "    print(\"Lanzado el hilo con identificador\", threading.current_thread().getName())"
   ]
  },
  {
   "cell_type": "code",
   "execution_count": 19,
   "id": "realistic-territory",
   "metadata": {},
   "outputs": [
    {
     "data": {
      "text/plain": [
       "<Response [200]>"
      ]
     },
     "execution_count": 19,
     "metadata": {},
     "output_type": "execute_result"
    }
   ],
   "source": [
    "requests.get('https://github.com/sukuzhanay')"
   ]
  },
  {
   "cell_type": "code",
   "execution_count": 22,
   "id": "hindu-muslim",
   "metadata": {},
   "outputs": [
    {
     "name": "stdin",
     "output_type": "stream",
     "text": [
      "Digame el numero de hilos 20\n"
     ]
    }
   ],
   "source": [
    "num_hilos=int(input(\"Digame el numero de hilos\"))"
   ]
  },
  {
   "cell_type": "code",
   "execution_count": 23,
   "id": "engaging-australian",
   "metadata": {},
   "outputs": [
    {
     "data": {
      "text/plain": [
       "20"
      ]
     },
     "execution_count": 23,
     "metadata": {},
     "output_type": "execute_result"
    }
   ],
   "source": [
    "num_hilos"
   ]
  },
  {
   "cell_type": "code",
   "execution_count": 24,
   "id": "suspected-settle",
   "metadata": {},
   "outputs": [
    {
     "data": {
      "text/plain": [
       "int"
      ]
     },
     "execution_count": 24,
     "metadata": {},
     "output_type": "execute_result"
    }
   ],
   "source": [
    "type(num_hilos)"
   ]
  },
  {
   "cell_type": "code",
   "execution_count": 25,
   "id": "dense-mexican",
   "metadata": {},
   "outputs": [
    {
     "name": "stdin",
     "output_type": "stream",
     "text": [
      "Dígame la dirección web correctamente formateada https://eburnout.com/\n"
     ]
    }
   ],
   "source": [
    "web=input(\"Dígame la dirección web correctamente formateada\")"
   ]
  },
  {
   "cell_type": "code",
   "execution_count": 26,
   "id": "defined-mainstream",
   "metadata": {},
   "outputs": [
    {
     "data": {
      "text/plain": [
       "'https://eburnout.com/'"
      ]
     },
     "execution_count": 26,
     "metadata": {},
     "output_type": "execute_result"
    }
   ],
   "source": [
    "web"
   ]
  },
  {
   "cell_type": "code",
   "execution_count": 27,
   "id": "shared-european",
   "metadata": {},
   "outputs": [
    {
     "data": {
      "text/plain": [
       "str"
      ]
     },
     "execution_count": 27,
     "metadata": {},
     "output_type": "execute_result"
    }
   ],
   "source": [
    "type(web)"
   ]
  },
  {
   "cell_type": "code",
   "execution_count": 30,
   "id": "reasonable-passage",
   "metadata": {},
   "outputs": [
    {
     "name": "stdout",
     "output_type": "stream",
     "text": [
      "Ataque usando 20\n"
     ]
    }
   ],
   "source": [
    "print('Ataque usando', num_hilos)"
   ]
  },
  {
   "cell_type": "code",
   "execution_count": 31,
   "id": "accepting-electric",
   "metadata": {},
   "outputs": [
    {
     "name": "stdout",
     "output_type": "stream",
     "text": [
      "<Response [200]>\n",
      "Lanzado el hilo con identificador Thread-406\n",
      "<Response [200]>\n",
      "Lanzado el hilo con identificador Thread-410<Response [200]>\n",
      "Lanzado el hilo con identificador Thread-407\n",
      "\n",
      "<Response [200]>\n",
      "Lanzado el hilo con identificador Thread-416\n",
      "<Response [200]><Response [200]>\n",
      "Lanzado el hilo con identificador Thread-413\n",
      "<Response [200]>\n",
      "Lanzado el hilo con identificador \n",
      "Lanzado el hilo con identificadorThread-412<Response [200]>\n",
      "Lanzado el hilo con identificador  Thread-408\n",
      "\n",
      "Thread-414\n",
      "<Response [200]>\n",
      "Lanzado el hilo con identificador Thread-417\n",
      "<Response [200]>\n",
      "Lanzado el hilo con identificador Thread-411\n",
      "<Response [200]><Response [200]><Response [200]>\n",
      "Lanzado el hilo con identificador \n",
      "Thread-422<Response [200]>\n",
      "Lanzado el hilo con identificador Thread-420\n",
      "Lanzado el hilo con identificador <Response [200]>\n",
      "<Response [200]>Lanzado el hilo con identificadorThread-418\n",
      "\n",
      "<Response [200]>Lanzado el hilo con identificador \n",
      " Thread-409<Response [200]>\n",
      "Lanzado el hilo con identificador Thread-423\n",
      "\n",
      "\n",
      "\n",
      "Thread-415Lanzado el hilo con identificadorLanzado el hilo con identificador\n",
      " <Response [200]> Thread-421\n",
      "Lanzado el hilo con identificador \n",
      "Thread-419Thread-424\n",
      "\n",
      "<Response [200]>\n",
      "Lanzado el hilo con identificador Thread-425\n"
     ]
    }
   ],
   "source": [
    "for i in range(num_hilos):\n",
    "    threading.Thread(target=ataque).start()"
   ]
  },
  {
   "cell_type": "code",
   "execution_count": 41,
   "id": "moved-liechtenstein",
   "metadata": {},
   "outputs": [
    {
     "data": {
      "text/plain": [
       "'C:\\\\Users\\\\RICARDO'"
      ]
     },
     "execution_count": 41,
     "metadata": {},
     "output_type": "execute_result"
    }
   ],
   "source": [
    "%pwd\n"
   ]
  },
  {
   "cell_type": "code",
   "execution_count": 32,
   "id": "thorough-adobe",
   "metadata": {},
   "outputs": [
    {
     "data": {
      "text/plain": [
       "<module 'requests' from 'c:\\\\users\\\\ricardo\\\\miniconda3\\\\lib\\\\site-packages\\\\requests\\\\__init__.py'>"
      ]
     },
     "execution_count": 32,
     "metadata": {},
     "output_type": "execute_result"
    }
   ],
   "source": [
    "requests"
   ]
  }
 ],
 "metadata": {
  "kernelspec": {
   "display_name": "Python 3",
   "language": "python",
   "name": "python3"
  },
  "language_info": {
   "codemirror_mode": {
    "name": "ipython",
    "version": 3
   },
   "file_extension": ".py",
   "mimetype": "text/x-python",
   "name": "python",
   "nbconvert_exporter": "python",
   "pygments_lexer": "ipython3",
   "version": "3.8.5"
  }
 },
 "nbformat": 4,
 "nbformat_minor": 5
}
